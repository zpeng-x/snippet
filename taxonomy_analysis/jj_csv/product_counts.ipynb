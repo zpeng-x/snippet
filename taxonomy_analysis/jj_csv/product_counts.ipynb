{
 "cells": [
  {
   "cell_type": "code",
   "execution_count": 12,
   "id": "407c113d",
   "metadata": {},
   "outputs": [],
   "source": [
    "import pandas as pd\n",
    "import glob\n",
    "# Read all .csv file in this directory and merge them into one dataframe\n",
    "# Then save the dataframe to a new csv file\n",
    "\n",
    "# Get all .csv files in the current directory\n",
    "csv_files = glob.glob('*_products.csv')\n",
    "\n",
    "# Read all .csv files and merge them into one dataframe\n",
    "df = pd.concat([pd.read_csv(file) for file in csv_files])\n",
    "\n",
    "# Save the dataframe to a new csv file\n",
    "df.to_csv('merged_products_count.csv', index=False)\n"
   ]
  },
  {
   "cell_type": "code",
   "execution_count": 13,
   "id": "409da119",
   "metadata": {},
   "outputs": [],
   "source": [
    "# Group by full_gpc and count the number of products, and order by count\n",
    "df.full_gpc = df.full_gpc.str.lower()\n",
    "df = df.groupby('full_gpc').size().reset_index(name='count').sort_values(by='count', ascending=False)\n"
   ]
  },
  {
   "cell_type": "code",
   "execution_count": 14,
   "id": "a20965fa",
   "metadata": {},
   "outputs": [],
   "source": [
    "df.to_csv('product_counts.csv', index=False)"
   ]
  },
  {
   "cell_type": "code",
   "execution_count": 15,
   "id": "fb7fe866",
   "metadata": {},
   "outputs": [],
   "source": [
    "# Find all full_gpc that  contains upper case letter\n",
    "# Load facebook product category txt\n",
    "file = \"fb_product_categories_en_US.csv\"\n",
    "fb_categories = pd.read_csv(file)\n"
   ]
  },
  {
   "cell_type": "code",
   "execution_count": 16,
   "id": "acbe7ef4",
   "metadata": {},
   "outputs": [
    {
     "data": {
      "text/plain": [
       "array(['sporting goods > outdoor recreation > water sports & boating > boating rafting & paddling',\n",
       "       \"clothing & accessories > clothing > men's clothing > tops > t-shirts\",\n",
       "       'sporting goods > outdoor recreation > water sports & boating > boating rafting & paddling > row boats',\n",
       "       ...,\n",
       "       'sporting goods > exercise & fitness > exercise equipment mats',\n",
       "       'sporting goods > exercise & fitness > exercise mat storage racks',\n",
       "       'home > home goods > kitchen & dining > small kitchen appliances > other small kitchen appliances'],\n",
       "      shape=(1212,), dtype=object)"
      ]
     },
     "execution_count": 16,
     "metadata": {},
     "output_type": "execute_result"
    }
   ],
   "source": [
    "# Find all rows that are not in the fb_categories\n",
    "df[~df['full_gpc'].isin(fb_categories.category)]['full_gpc'].values"
   ]
  },
  {
   "cell_type": "code",
   "execution_count": 17,
   "id": "51def098",
   "metadata": {},
   "outputs": [
    {
     "data": {
      "text/plain": [
       "2399                                                other\n",
       "2350                                        media > books\n",
       "427     clothing & accessories > clothing > unisex clo...\n",
       "501     clothing & accessories > clothing > women's cl...\n",
       "554     clothing & accessories > clothing accessories ...\n",
       "                              ...                        \n",
       "2022    home improvement > building supplies & hardwar...\n",
       "277     clothing & accessories > clothing > baby cloth...\n",
       "2673    sporting goods > exercise & fitness > cardio e...\n",
       "274     clothing & accessories > clothing > baby clothing\n",
       "1201    home > cleaning supplies > party supplies > ca...\n",
       "Name: full_gpc, Length: 2138, dtype: object"
      ]
     },
     "execution_count": 17,
     "metadata": {},
     "output_type": "execute_result"
    }
   ],
   "source": [
    "df[df['full_gpc'].isin(fb_categories.category)]['full_gpc']"
   ]
  },
  {
   "cell_type": "code",
   "execution_count": 18,
   "id": "a2b540b5",
   "metadata": {},
   "outputs": [],
   "source": [
    "# and make it lower case\n",
    "# df['full_gpc'] = df['full_gpc'].str.lower()\n",
    "# parse the full_gpc to a list of categories\n",
    "df['full_gpc_list'] = df['full_gpc'].str.split(' > ')\n"
   ]
  },
  {
   "cell_type": "code",
   "execution_count": 19,
   "id": "fb082296",
   "metadata": {},
   "outputs": [],
   "source": [
    "# For each full_gpc list change it multiple columns and kepp the count\n",
    "tdf = pd.DataFrame(df['full_gpc_list'].tolist(), index=df.index)\n",
    "# Order the columns by the [full_gpc, 0, 1, 2, 3, 4, 5, count]\n",
    "df = pd.concat([df, tdf], axis=1)\n",
    "df = df[[\"full_gpc\", 0, 1, 2, 3, 4, 5, \"count\"]]"
   ]
  },
  {
   "cell_type": "code",
   "execution_count": 20,
   "id": "d77db63d",
   "metadata": {},
   "outputs": [],
   "source": [
    "# Group by full_gpc and sum the number of products, and order by count\n",
    "df = df.groupby('full_gpc').sum()\n",
    "# Sorted by 0, 1, 2, 3, 4, 5\n",
    "df = df.sort_values(by=[0, 1, 2, 3, 4, 5])\n",
    "df = df.reset_index()\n",
    "\n"
   ]
  },
  {
   "cell_type": "code",
   "execution_count": 22,
   "id": "0fed5796",
   "metadata": {},
   "outputs": [],
   "source": [
    "df.to_csv('product_counts_lv1_lv2_lv3_lv4_lv5_lv6.csv', index=False)"
   ]
  },
  {
   "cell_type": "code",
   "execution_count": 26,
   "id": "394ac177",
   "metadata": {},
   "outputs": [
    {
     "data": {
      "text/plain": [
       "35"
      ]
     },
     "execution_count": 26,
     "metadata": {},
     "output_type": "execute_result"
    }
   ],
   "source": [
    "len(df[0].unique())"
   ]
  },
  {
   "cell_type": "code",
   "execution_count": 40,
   "id": "d179ce7d",
   "metadata": {},
   "outputs": [
    {
     "data": {
      "text/html": [
       "<div>\n",
       "<style scoped>\n",
       "    .dataframe tbody tr th:only-of-type {\n",
       "        vertical-align: middle;\n",
       "    }\n",
       "\n",
       "    .dataframe tbody tr th {\n",
       "        vertical-align: top;\n",
       "    }\n",
       "\n",
       "    .dataframe thead th {\n",
       "        text-align: right;\n",
       "    }\n",
       "</style>\n",
       "<table border=\"1\" class=\"dataframe\">\n",
       "  <thead>\n",
       "    <tr style=\"text-align: right;\">\n",
       "      <th></th>\n",
       "      <th>full_gpc</th>\n",
       "      <th>0</th>\n",
       "      <th>1</th>\n",
       "      <th>2</th>\n",
       "      <th>3</th>\n",
       "      <th>4</th>\n",
       "      <th>5</th>\n",
       "      <th>count</th>\n",
       "      <th>% of total products</th>\n",
       "      <th>Selected Category</th>\n",
       "    </tr>\n",
       "  </thead>\n",
       "  <tbody>\n",
       "    <tr>\n",
       "      <th>0</th>\n",
       "      <td>&lt;category_from_taxonomy&gt;</td>\n",
       "      <td>&lt;category_from_taxonomy&gt;</td>\n",
       "      <td>0</td>\n",
       "      <td>0</td>\n",
       "      <td>0</td>\n",
       "      <td>0</td>\n",
       "      <td>0</td>\n",
       "      <td>9</td>\n",
       "      <td>0.000481%</td>\n",
       "      <td>0</td>\n",
       "    </tr>\n",
       "    <tr>\n",
       "      <th>1</th>\n",
       "      <td>animals &amp; pet supplies &gt; pet supplies</td>\n",
       "      <td>animals &amp; pet supplies</td>\n",
       "      <td>pet supplies</td>\n",
       "      <td>0</td>\n",
       "      <td>0</td>\n",
       "      <td>0</td>\n",
       "      <td>0</td>\n",
       "      <td>6</td>\n",
       "      <td>0.000320%</td>\n",
       "      <td>0</td>\n",
       "    </tr>\n",
       "    <tr>\n",
       "      <th>2</th>\n",
       "      <td>animals &amp; pet supplies &gt; pet supplies &gt; bird s...</td>\n",
       "      <td>animals &amp; pet supplies</td>\n",
       "      <td>pet supplies</td>\n",
       "      <td>bird supplies</td>\n",
       "      <td>0</td>\n",
       "      <td>0</td>\n",
       "      <td>0</td>\n",
       "      <td>2</td>\n",
       "      <td>0.000107%</td>\n",
       "      <td>0</td>\n",
       "    </tr>\n",
       "    <tr>\n",
       "      <th>3</th>\n",
       "      <td>animals &amp; pet supplies &gt; pet supplies &gt; dog su...</td>\n",
       "      <td>animals &amp; pet supplies</td>\n",
       "      <td>pet supplies</td>\n",
       "      <td>dog supplies</td>\n",
       "      <td>0</td>\n",
       "      <td>0</td>\n",
       "      <td>0</td>\n",
       "      <td>7</td>\n",
       "      <td>0.000374%</td>\n",
       "      <td>0</td>\n",
       "    </tr>\n",
       "    <tr>\n",
       "      <th>4</th>\n",
       "      <td>animals &amp; pet supplies &gt; pet supplies &gt; fish s...</td>\n",
       "      <td>animals &amp; pet supplies</td>\n",
       "      <td>pet supplies</td>\n",
       "      <td>fish supplies</td>\n",
       "      <td>0</td>\n",
       "      <td>0</td>\n",
       "      <td>0</td>\n",
       "      <td>5</td>\n",
       "      <td>0.000267%</td>\n",
       "      <td>1</td>\n",
       "    </tr>\n",
       "  </tbody>\n",
       "</table>\n",
       "</div>"
      ],
      "text/plain": [
       "                                            full_gpc  \\\n",
       "0                           <category_from_taxonomy>   \n",
       "1              animals & pet supplies > pet supplies   \n",
       "2  animals & pet supplies > pet supplies > bird s...   \n",
       "3  animals & pet supplies > pet supplies > dog su...   \n",
       "4  animals & pet supplies > pet supplies > fish s...   \n",
       "\n",
       "                          0             1              2  3  4  5  count  \\\n",
       "0  <category_from_taxonomy>             0              0  0  0  0      9   \n",
       "1    animals & pet supplies  pet supplies              0  0  0  0      6   \n",
       "2    animals & pet supplies  pet supplies  bird supplies  0  0  0      2   \n",
       "3    animals & pet supplies  pet supplies   dog supplies  0  0  0      7   \n",
       "4    animals & pet supplies  pet supplies  fish supplies  0  0  0      5   \n",
       "\n",
       "  % of total products  Selected Category  \n",
       "0           0.000481%                  0  \n",
       "1           0.000320%                  0  \n",
       "2           0.000107%                  0  \n",
       "3           0.000374%                  0  \n",
       "4           0.000267%                  1  "
      ]
     },
     "execution_count": 40,
     "metadata": {},
     "output_type": "execute_result"
    }
   ],
   "source": [
    "# Read the cvs file of labeled data\n",
    "file = \"Product_FPC_Counts - Sheet2.csv\"\n",
    "labeled_data = pd.read_csv(file)\n",
    "\n",
    "labeled_data.drop(columns=['Unnamed: 10'], inplace=True)\n",
    "labeled_data.head()\n",
    "\n"
   ]
  },
  {
   "cell_type": "code",
   "execution_count": 45,
   "id": "fd93c5f7",
   "metadata": {},
   "outputs": [
    {
     "data": {
      "text/html": [
       "<div>\n",
       "<style scoped>\n",
       "    .dataframe tbody tr th:only-of-type {\n",
       "        vertical-align: middle;\n",
       "    }\n",
       "\n",
       "    .dataframe tbody tr th {\n",
       "        vertical-align: top;\n",
       "    }\n",
       "\n",
       "    .dataframe thead th {\n",
       "        text-align: right;\n",
       "    }\n",
       "</style>\n",
       "<table border=\"1\" class=\"dataframe\">\n",
       "  <thead>\n",
       "    <tr style=\"text-align: right;\">\n",
       "      <th></th>\n",
       "      <th>keep</th>\n",
       "      <th>category</th>\n",
       "      <th>line item count</th>\n",
       "    </tr>\n",
       "  </thead>\n",
       "  <tbody>\n",
       "    <tr>\n",
       "      <th>0</th>\n",
       "      <td>1.0</td>\n",
       "      <td>antiques &amp; collectibles</td>\n",
       "      <td>88</td>\n",
       "    </tr>\n",
       "    <tr>\n",
       "      <th>1</th>\n",
       "      <td>1.0</td>\n",
       "      <td>antiques &amp; collectibles &gt; collectible appliances</td>\n",
       "      <td>0</td>\n",
       "    </tr>\n",
       "    <tr>\n",
       "      <th>2</th>\n",
       "      <td>1.0</td>\n",
       "      <td>antiques &amp; collectibles &gt; collectible coins &amp; ...</td>\n",
       "      <td>208</td>\n",
       "    </tr>\n",
       "    <tr>\n",
       "      <th>3</th>\n",
       "      <td>1.0</td>\n",
       "      <td>antiques &amp; collectibles &gt; collectible electronics</td>\n",
       "      <td>2</td>\n",
       "    </tr>\n",
       "    <tr>\n",
       "      <th>4</th>\n",
       "      <td>1.0</td>\n",
       "      <td>antiques &amp; collectibles &gt; collectible furniture</td>\n",
       "      <td>0</td>\n",
       "    </tr>\n",
       "  </tbody>\n",
       "</table>\n",
       "</div>"
      ],
      "text/plain": [
       "   keep                                           category  line item count\n",
       "0   1.0                            antiques & collectibles               88\n",
       "1   1.0   antiques & collectibles > collectible appliances                0\n",
       "2   1.0  antiques & collectibles > collectible coins & ...              208\n",
       "3   1.0  antiques & collectibles > collectible electronics                2\n",
       "4   1.0    antiques & collectibles > collectible furniture                0"
      ]
     },
     "execution_count": 45,
     "metadata": {},
     "output_type": "execute_result"
    }
   ],
   "source": [
    "# Read ad taxonomy\n",
    "file = \"ad_taxonomy_count.csv\"\n",
    "ad_taxonomy = pd.read_csv(file)\n",
    "\n",
    "ad_taxonomy.head()\n",
    "\n",
    "\n"
   ]
  },
  {
   "cell_type": "code",
   "execution_count": 62,
   "id": "7938f4d5",
   "metadata": {},
   "outputs": [],
   "source": [
    "# Taxonomy sync by removing 2.1% of products that have hallucinated categories or not in the facebook product category\n",
    "product_df = df[df['full_gpc'].isin(ad_taxonomy.category)]"
   ]
  },
  {
   "cell_type": "code",
   "execution_count": 69,
   "id": "848b6a9a",
   "metadata": {},
   "outputs": [
    {
     "name": "stdout",
     "output_type": "stream",
     "text": [
      "(2965, 3) (2138, 8)\n"
     ]
    },
    {
     "name": "stderr",
     "output_type": "stream",
     "text": [
      "/var/folders/kf/nngbsl7s0x9czdc617g9yx9r0000gp/T/ipykernel_69490/1188829964.py:1: SettingWithCopyWarning: \n",
      "A value is trying to be set on a copy of a slice from a DataFrame\n",
      "\n",
      "See the caveats in the documentation: https://pandas.pydata.org/pandas-docs/stable/user_guide/indexing.html#returning-a-view-versus-a-copy\n",
      "  product_df.rename(columns={'full_gpc': 'category'}, inplace=True)\n"
     ]
    }
   ],
   "source": [
    "product_df.rename(columns={'full_gpc': 'category'}, inplace=True)\n",
    "\n",
    "print(ad_taxonomy.shape, product_df.shape)"
   ]
  },
  {
   "cell_type": "code",
   "execution_count": 73,
   "id": "ae501e57",
   "metadata": {},
   "outputs": [],
   "source": [
    "# ad_taxonomy LEFT Join product_df\n",
    "join_df = pd.merge(ad_taxonomy, product_df, on='category', how='left')\n",
    "# rename count to product_count\n",
    "join_df.rename(columns={'count': 'product_count'}, inplace=True)\n",
    "# Reorgnize the columns \n",
    "join_df = join_df[['keep','category', 'line item count','product_count']]"
   ]
  },
  {
   "cell_type": "code",
   "execution_count": 80,
   "id": "cd56f002",
   "metadata": {},
   "outputs": [],
   "source": [
    "# Renam\n",
    "join_df.to_csv('ad_product_counts_taxonomy_joined.csv', index=False)"
   ]
  },
  {
   "cell_type": "markdown",
   "id": "f7484cac",
   "metadata": {},
   "source": [
    "# Construct final taxonomy based on code\n",
    "\n"
   ]
  },
  {
   "cell_type": "code",
   "execution_count": 82,
   "id": "33cd181d",
   "metadata": {},
   "outputs": [],
   "source": [
    "# Rename the file name\n",
    "join_df.rename(columns={'category': 'fpt'}, inplace=True)\n",
    "join_df['count'] = join_df['product_count'] + join_df['line item count'] # This is the the naive method of doing the counting and it dominates by product_count.\n",
    "join_df[['fpt', 'count']].to_csv('taxonomy_sanitized_input.csv', index=False)"
   ]
  },
  {
   "cell_type": "code",
   "execution_count": 84,
   "id": "2a808576",
   "metadata": {},
   "outputs": [],
   "source": [
    "import numpy as np\n",
    "join_df.replace(np.nan, 0, inplace=True)\n",
    "join_df[['fpt', 'count']].to_csv('taxonomy_sanitized_input.csv', index=False)"
   ]
  },
  {
   "cell_type": "code",
   "execution_count": 101,
   "id": "71feddf0",
   "metadata": {},
   "outputs": [],
   "source": [
    "# Plot another graph to normalize the count by the total count\n",
    "join_df['line item count'] = join_df['line item count'] / join_df['line item count'].sum()\n",
    "join_df['product_count'] = join_df['product_count'] / join_df['product_count'].sum()\n",
    "join_df['count'] = (join_df['line item count'] + join_df['product_count']) * 1000000 # Sum after normalization\n",
    "join_df[['fpt', 'count']].to_csv('taxonomy_sanitized_input_normalized.csv', index=False)\n"
   ]
  },
  {
   "cell_type": "markdown",
   "id": "4bcb392b",
   "metadata": {},
   "source": [
    "# Taxonomy Validation"
   ]
  },
  {
   "cell_type": "code",
   "execution_count": null,
   "id": "57ae8e09",
   "metadata": {},
   "outputs": [],
   "source": [
    "# Read taxonomy_out_normalized.csv and taxonomy_out_sum.csv\n",
    "tax_norm = pd.read_csv('taxonomy_out_normalized.csv')\n",
    "tax_sum = pd.read_csv('taxonomy_out_sum.csv')\n"
   ]
  },
  {
   "cell_type": "code",
   "execution_count": 117,
   "id": "d6a5c1d2",
   "metadata": {},
   "outputs": [],
   "source": [
    "# Parse those two taxonomies and see if they align on the first level\n",
    "tax_norm['fpt_lv1'] = tax_norm['id'].str.split(' > ').str[0]\n",
    "tax_sum['fpt_lv1'] = tax_sum['id'].str.split(' > ').str[0]\n",
    "\n",
    "tax_norm['fpt_lv2'] = tax_norm['id'].str.split(' > ').str[1]\n",
    "tax_sum['fpt_lv2'] = tax_sum['id'].str.split(' > ').str[1]\n",
    "\n",
    "tax_norm['fpt_lv3'] = tax_norm['id'].str.split(' > ').str[2]\n",
    "tax_sum['fpt_lv3'] = tax_sum['id'].str.split(' > ').str[2]\n",
    "\n",
    "\n"
   ]
  },
  {
   "cell_type": "code",
   "execution_count": null,
   "id": "241c1531",
   "metadata": {},
   "outputs": [],
   "source": [
    "assert len(tax_norm.fpt_lv1.unique()) == len(tax_sum.fpt_lv1.unique()), \"Disagree on lv1\"\n",
    "assert len(tax_norm.fpt_lv2.unique()) == len(tax_sum.fpt_lv2.unique()), \"Disagree on lv2\"\n",
    "\n",
    "# Agree on both lv1 and lv2 "
   ]
  },
  {
   "cell_type": "code",
   "execution_count": 126,
   "id": "8a20151e",
   "metadata": {},
   "outputs": [
    {
     "name": "stdout",
     "output_type": "stream",
     "text": [
      "['antiques & collectibles > collectible coins & paper money'\n",
      " 'antiques & collectibles > collectible home goods'\n",
      " 'antiques & collectibles > collectible sports memorabilia'\n",
      " 'antiques & collectibles > collectible toys'\n",
      " 'baby products > toys > baby toys'\n",
      " \"clothing & accessories > clothing > men's clothing > tops > blazers & sports coats\"\n",
      " 'electronics > accessories > blank media'\n",
      " 'electronics > cameras > camera accessories'\n",
      " 'electronics > cameras > camera drones'\n",
      " 'electronics > cameras > digital cameras'\n",
      " 'electronics > video game consoles & video games > video game accessories'\n",
      " 'electronics > video game consoles & video games > video game consoles'\n",
      " 'food & beverages > beverages > juice'\n",
      " 'food & beverages > beverages > milk'\n",
      " 'food & beverages > beverages > powdered beverage mixes'\n",
      " 'food & beverages > beverages > soda'\n",
      " 'food & beverages > beverages > water'\n",
      " 'food & beverages > food > bakery & bread'\n",
      " 'food & beverages > food > dairy, eggs & cheese'\n",
      " 'food & beverages > food > dips & spreads'\n",
      " 'food & beverages > food > frozen food'\n",
      " 'food & beverages > food > meat substitutes'\n",
      " 'food & beverages > food > nuts & seeds'\n",
      " 'food & beverages > food > pasta & grains'\n",
      " 'health & beauty > beauty > hair care & styling > hair oils & protectors'\n",
      " 'health & beauty > beauty > hair care & styling > medicated hair treatments'\n",
      " 'health & beauty > beauty > hair care & styling > shampoos & conditioners > conditioners'\n",
      " 'health & beauty > health > feminine care'\n",
      " 'home > large appliances > cooktops'\n",
      " 'home improvement > home heating & cooling > air filters'\n",
      " 'home improvement > home heating & cooling > air purifiers'\n",
      " 'home improvement > home heating & cooling > furnaces & heating systems'\n",
      " 'home improvement > tools > miscellaneous tools > flashlights'\n",
      " 'home improvement > tools > power tools > drills'\n",
      " 'jewelry & watches > jewelry > engagement jewelry'\n",
      " 'musical instruments > guitars & basses'\n",
      " 'office supplies > calendars & planners'\n",
      " 'patio & garden > outdoor power equipment'\n",
      " 'patio & garden > plants, seeds & bulbs'\n",
      " 'sporting goods > exercise & fitness > exercise bands'\n",
      " 'sporting goods > exercise & fitness > hand exercisers'\n",
      " 'sporting goods > exercise & fitness > yoga & pilates'\n",
      " 'sporting goods > sports equipment > baseball & softball > protective gear'\n",
      " 'sporting goods > sports equipment > basketball'\n",
      " 'sporting goods > sports equipment > fencing'\n",
      " 'sporting goods > sports equipment > football > clothing & shoes'\n",
      " 'sporting goods > sports equipment > football > protective gear'\n",
      " 'sporting goods > sports equipment > golf > golf accessories'\n",
      " 'sporting goods > sports equipment > golf > golf training aids'\n",
      " 'sporting goods > sports equipment > soccer > soccer balls'\n",
      " 'toys & games > games > chess' 'toys & games > puzzles']\n"
     ]
    }
   ],
   "source": [
    "# Check the difference\n",
    "# what is in norm but not in sum\n",
    "print(tax_norm[~tax_norm['id'].isin(tax_sum['id'])]['id'].values)\n",
    "\n",
    "\n"
   ]
  },
  {
   "cell_type": "code",
   "execution_count": 129,
   "id": "4c221da5",
   "metadata": {},
   "outputs": [
    {
     "name": "stdout",
     "output_type": "stream",
     "text": [
      "['auto parts & accessories > trailer parts & accessories'\n",
      " 'baby products > baby gear' 'baby products > baby transport'\n",
      " 'baby products > nursery'\n",
      " 'clothing & accessories > clothing > baby clothing > other baby clothing & accessories'\n",
      " \"clothing & accessories > clothing > men's clothing > sleepwear\"\n",
      " 'clothing & accessories > clothing > uniforms & work clothing > other uniforms & work clothing'\n",
      " 'clothing & accessories > clothing > uniforms & work clothing > pants & shorts'\n",
      " 'clothing & accessories > clothing > uniforms & work clothing > shirts'\n",
      " \"clothing & accessories > clothing > women's clothing > activewear > sports bras\"\n",
      " \"clothing & accessories > clothing > women's clothing > tops > suits & blazers\"\n",
      " \"clothing & accessories > clothing accessories > boys' accessories\"\n",
      " \"clothing & accessories > clothing accessories > girls' accessories\"\n",
      " \"clothing & accessories > clothing accessories > men's accessories > belt buckles\"\n",
      " \"clothing & accessories > clothing accessories > men's accessories > ties\"\n",
      " 'clothing & accessories > clothing accessories > newborn & baby fashion accessories > bags'\n",
      " \"clothing & accessories > clothing accessories > women's accessories > gloves & mittens\"\n",
      " 'clothing & accessories > costumes > costume accessories'\n",
      " \"clothing & accessories > costumes > girls' costumes\"\n",
      " \"clothing & accessories > costumes > men's costumes\"\n",
      " \"clothing & accessories > costumes > women's costumes\"\n",
      " \"clothing & accessories > shoes & footwear > kids' shoes > boys' baby shoes\"\n",
      " \"clothing & accessories > shoes & footwear > kids' shoes > girls' baby shoes\"\n",
      " 'health & beauty > beauty > hair care & styling > brushes & combs'\n",
      " 'health & beauty > beauty > hair care & styling > hair extensions & wigs > hair extension & wig supplies'\n",
      " 'health & beauty > beauty > makeup > eye makeup > mascara'\n",
      " 'health & beauty > beauty > makeup > makeup tools & accessories > brushes & sponges'\n",
      " 'health & beauty > beauty > makeup > makeup tools & accessories > makeup bags & storage'\n",
      " 'health & beauty > beauty > skin care > masks & peels'\n",
      " 'home > furniture > bedroom furniture > dressers & chests of drawers'\n",
      " 'home > furniture > living room furniture > console tables'\n",
      " 'home > furniture > office furniture > storage & filing cabinets'\n",
      " 'home > home goods > bath > bath accessories'\n",
      " 'home > home goods > bath > bath storage'\n",
      " 'home > home goods > home decor > decorative accents > door mats'\n",
      " 'home > home goods > home decor > decorative accents > frames'\n",
      " 'home > home goods > home decor > decorative accents > throw pillows'\n",
      " 'home > home goods > home decor > decorative accents > vases'\n",
      " 'home > home goods > home decor > rugs & carpets > area rugs'\n",
      " 'home > home goods > home decor > rugs & carpets > runners'\n",
      " 'home > home goods > home decor > window treatments & hardware > curtains & drapes'\n",
      " 'home > home goods > home decor > window treatments & hardware > window blinds & shades'\n",
      " 'home > home goods > kitchen & dining > bakeware'\n",
      " 'home > home goods > kitchen & dining > food storage > food storage bags'\n",
      " 'home > home goods > kitchen & dining > food storage > food storage containers'\n",
      " 'home > home goods > kitchen & dining > food storage > storage canisters & jars'\n",
      " 'home > home goods > kitchen & dining > kitchen tools & utensils > cutting boards'\n",
      " 'home > home goods > kitchen & dining > prefabricated kitchens & kitchenettes'\n",
      " 'home > home goods > storage & organization > jewelry organizers'\n",
      " 'home > large appliances > microwave ovens'\n",
      " 'home improvement > building supplies & hardware > consumables > paint & varnish > paint'\n",
      " 'home improvement > building supplies & hardware > doors & door hardware > door stops'\n",
      " 'home improvement > building supplies & hardware > electrical & solar supplies > extension cords'\n",
      " 'home improvement > building supplies & hardware > electrical & solar supplies > solar chargers & inverters'\n",
      " 'home improvement > building supplies & hardware > electrical & solar supplies > switch plates & outlet covers'\n",
      " 'home improvement > building supplies & hardware > wallpaper & accessories'\n",
      " 'home improvement > plumbing & fixtures > drains'\n",
      " 'home improvement > plumbing & fixtures > sinks'\n",
      " 'home improvement > tools > painting tools'\n",
      " 'musical instruments > drums & percussion instruments'\n",
      " 'musical instruments > string instruments'\n",
      " 'office supplies > filing & storage' 'office supplies > labels'\n",
      " 'pet supplies > fish supplies'\n",
      " 'sporting goods > outdoor recreation > fishing > fishing baits & lures > jigs & rigs'\n",
      " 'sporting goods > sports equipment > dance & gymnastics'\n",
      " 'travel & luggage > handbags & wallets > crossbody bags'\n",
      " 'travel & luggage > handbags & wallets > shoulder bags']\n"
     ]
    }
   ],
   "source": [
    "# what is in sum but not in norm\n",
    "print(tax_sum[~tax_sum['id'].isin(tax_norm['id'])]['id'].values)\n",
    "\n"
   ]
  },
  {
   "cell_type": "code",
   "execution_count": null,
   "id": "0720a55a",
   "metadata": {},
   "outputs": [],
   "source": []
  }
 ],
 "metadata": {
  "kernelspec": {
   "display_name": "base",
   "language": "python",
   "name": "python3"
  },
  "language_info": {
   "codemirror_mode": {
    "name": "ipython",
    "version": 3
   },
   "file_extension": ".py",
   "mimetype": "text/x-python",
   "name": "python",
   "nbconvert_exporter": "python",
   "pygments_lexer": "ipython3",
   "version": "3.13.5"
  }
 },
 "nbformat": 4,
 "nbformat_minor": 5
}
